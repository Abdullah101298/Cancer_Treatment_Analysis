{
 "cells": [
  {
   "cell_type": "code",
   "execution_count": null,
   "metadata": {},
   "outputs": [],
   "source": [
    "#Importing all external libraries need for the tasks \n",
    "import matplotlib.pyplot as plt\n",
    "import pandas as pd\n",
    "import scipy.stats as st\n",
    "import os \n",
    "import numpy as np "
   ]
  },
  {
   "cell_type": "code",
   "execution_count": null,
   "metadata": {},
   "outputs": [],
   "source": [
    "#Using os library to define the path to the files \n",
    "mouse_metadata = os.path.join(\"..\",\"Pymaceuticals\", \"Resources\",\"Mouse_metadata.csv\")\n",
    "study_results =  os.path.join(\"..\",\"Pymaceuticals\",\"Resources\", \"Study_results.csv\")"
   ]
  },
  {
   "cell_type": "code",
   "execution_count": null,
   "metadata": {},
   "outputs": [],
   "source": [
    "#Reading the data using pandas and merging them together\n",
    "mouse_metadata = pd.read_csv(mouse_metadata)\n",
    "study_results = pd.read_csv(study_results)\n",
    "mouse_merge = pd.merge(study_results,mouse_metadata,  on = \"Mouse ID\")\n",
    "#Defining a new dataframe with needed columns only \n",
    "tumorv = mouse_merge[['Drug Regimen','Tumor Volume (mm3)']]"
   ]
  },
  {
   "cell_type": "code",
   "execution_count": null,
   "metadata": {},
   "outputs": [],
   "source": [
    "#Defining a new dataframe grouped by the drug regimen for mean,median,variance, standard deviation, and standard error\n",
    "tumor_group=tumorv.groupby('Drug Regimen')\n",
    "mean_tumor = tumor_group.mean()\n",
    "mean_tumor = mean_tumor.rename(columns = {\"Tumor Volume (mm3)\" : \"Mean Tumor Volume\"})\n",
    "\n",
    "median_tumor= tumor_group.median()\n",
    "median_tumor = median_tumor.rename(columns = {\"Tumor Volume (mm3)\" : \"Median Tumor Volume\"})\n",
    "\n",
    "var_tumor = tumor_group.var()\n",
    "var_tumor = var_tumor.rename(columns = {\"Tumor Volume (mm3)\" : \"Tumor Volume Variance\"})\n",
    "\n",
    "std_tumor = tumor_group.std()\n",
    "std_tumor = std_tumor.rename(columns = {\"Tumor Volume (mm3)\" : \"Tumor Volume Std. Deviation\"})\n",
    "\n",
    "sem_tumor = tumor_group.sem()\n",
    "sem_tumor = sem_tumor.rename(columns = {\"Tumor Volume (mm3)\" : \"Tumor Volume Std Error\"})"
   ]
  },
  {
   "cell_type": "code",
   "execution_count": null,
   "metadata": {},
   "outputs": [],
   "source": [
    "#Merging all the data together on the Drug Regimen row \n",
    "summary_merged3 = pd.merge(mean_tumor,median_tumor, on = \"Drug Regimen\")\n",
    "summary_merged2 = pd.merge(summary_merged3,var_tumor, on = \"Drug Regimen\")\n",
    "summary_merged1 = pd.merge(summary_merged2,std_tumor, on = \"Drug Regimen\")\n",
    "summary_merged = pd.merge(summary_merged1,sem_tumor, on = \"Drug Regimen\")\n",
    "\n",
    "#Summary Dataframe being displayed \n",
    "summary_merged"
   ]
  },
  {
   "cell_type": "code",
   "execution_count": null,
   "metadata": {},
   "outputs": [],
   "source": [
    "#Using Matplotlib to plot the bar chart consisting of the Drug Regimen vs. the number of data points \n",
    "Unique_drus = mouse_merge['Drug Regimen'].unique()\n",
    "count_val = mouse_merge['Drug Regimen'].value_counts()\n",
    "plt.bar(Unique_drus,count_val)\n",
    "plt.title(\"The Number of Data Points for each Drug Regiman\")\n",
    "plt.xlabel(\"Drug Regimen\")\n",
    "plt.ylabel(\"Number of Data Points\")\n",
    "plt.xticks(rotation=90)\n",
    "plt.tight_layout()\n"
   ]
  },
  {
   "cell_type": "code",
   "execution_count": null,
   "metadata": {},
   "outputs": [],
   "source": [
    "#Using Pandas to plot the bar chart consisting of the Drug Regimen vs. the number of data points \n",
    "count_val.plot(kind=\"bar\", figsize=(6,4))\n",
    "plt.title(\"The Number of Data Points for each Drug Regiman\")\n",
    "plt.xlabel(\"Drug Regimen\")\n",
    "plt.ylabel(\"Number of Data Points\")\n",
    "plt.tight_layout()\n",
    "\n"
   ]
  },
  {
   "cell_type": "code",
   "execution_count": null,
   "metadata": {},
   "outputs": [],
   "source": [
    "#Pie plot showing the distribution of male vs female mice using pandas\n",
    "unigender =[]\n",
    "for tt in range(len(mouse_merge)-1):\n",
    "    if mouse_merge.iloc[tt,0] != mouse_merge.iloc[tt-1,0]: \n",
    "        unigender.append(mouse_merge.iloc[tt,5])\n",
    "\n",
    "count_male = unigender.count('Male')\n",
    "count_female = unigender.count('Female')\n",
    "Total_gender = count_male + count_female\n",
    "\n",
    "gender_array = [(count_male/Total_gender),(count_female/Total_gender)]\n",
    "gender_array = pd.DataFrame(gender_array)\n",
    "\n",
    "count_pie = gender_array.plot(kind=\"pie\", subplots=True, figsize=(6,4),autopct='%1.1f%%',labels = [\"Male\",\"Female\"],legend = False)\n",
    "plt.title(\"The distribution of male vs female mice\")\n",
    "plt.ylabel(\"Sex\")\n",
    "plt.tight_layout()"
   ]
  },
  {
   "cell_type": "code",
   "execution_count": null,
   "metadata": {},
   "outputs": [],
   "source": [
    "#Pie plot showing the distribution of male vs female mice using Matplotlib\n",
    "plt.pie(gender_array,labels = [\"Male\",\"Female\"],autopct='%1.1f%%')\n",
    "plt.title(\"The distribution of male vs female mice\")\n",
    "plt.ylabel(\"Sex\")\n",
    "plt.tight_layout()\n"
   ]
  },
  {
   "cell_type": "code",
   "execution_count": null,
   "metadata": {},
   "outputs": [],
   "source": [
    "#Creating a Boxplot for Capomulin,Ramicane, Infubinor, and Ceftamin based off the final tumor volume\n",
    "Unique_id = mouse_merge['Mouse ID'].unique()\n",
    "mouseid = mouse_merge['Mouse ID']\n",
    "drug_regimen = mouse_merge['Drug Regimen']\n",
    "Diffval1 = []\n",
    "Diffval2 = []\n",
    "Diffval3 = []\n",
    "Diffval4 = []\n",
    "\n",
    "#Placing the final tumor volumes of specific drug treatment into an array \n",
    "for j in range(len(drug_regimen)-1):\n",
    "    if mouseid[j] != mouseid[j+1] and drug_regimen[j] == 'Capomulin':\n",
    "        Diffval1.append(mouse_merge.iloc[j,2])\n",
    "    elif mouseid[j] != mouseid[j+1] and drug_regimen[j] == 'Ramicane':\n",
    "        Diffval2.append(mouse_merge.iloc[j,2])\n",
    "    elif mouseid[j] != mouseid[j+1] and drug_regimen[j] == 'Infubinol':\n",
    "        Diffval3.append(mouse_merge.iloc[j,2])\n",
    "    elif mouseid[j] != mouseid[j+1] and drug_regimen[j] == 'Ceftamin':\n",
    "        Diffval4.append(mouse_merge.iloc[j,2])\n",
    "        "
   ]
  },
  {
   "cell_type": "code",
   "execution_count": null,
   "metadata": {},
   "outputs": [],
   "source": [
    "#finding the quartiles, IQR, and outliers for Capomulin\n",
    "Diffval1_pd = pd.DataFrame(Diffval1)\n",
    "quartiles_Capomulin = Diffval1_pd.quantile([.25,.5,.75])\n",
    "lowerq_Capomulin = quartiles_Capomulin.iloc[0]\n",
    "upperq_Capomulin = quartiles_Capomulin.iloc[2]\n",
    "iqr_Capomulin = upperq_Capomulin-lowerq_Capomulin\n",
    "\n",
    "lower_bound_Capomulin = lowerq_Capomulin - (1.5*iqr_Capomulin)\n",
    "upper_bound_Capomulin = upperq_Capomulin + (1.5*iqr_Capomulin)\n",
    "\n",
    "outlier1 = []\n",
    "\n",
    "for row in range(len(Diffval1)):\n",
    "    if Diffval1[row] < lower_bound_Capomulin[0] or Diffval1[row] > upper_bound_Capomulin[0]:\n",
    "        outlier1.append(Diffval1[row])\n",
    "        print(f\"Capomulin has a potential outlier of {round(Diffval1[row],2)} and an IQR of {round(iqr_Capomulin[0],2)}. \\n\")\n",
    "\n",
    "if outlier1 == []:\n",
    "    print(f\"Capomulin has an IQR of {round(iqr_Capomulin[0],2)} and has no potential outliers.\\n\")\n",
    "\n",
    "\n",
    "#finding the quartiles, IQR, and outliers for Ramicane\n",
    "Diffval2_pd = pd.DataFrame(Diffval2)\n",
    "quartiles_Ramicane = Diffval2_pd.quantile([.25,.5,.75])\n",
    "lowerq_Ramicane = quartiles_Ramicane.iloc[0]\n",
    "upperq_Ramicane = quartiles_Ramicane.iloc[2]\n",
    "iqr_Ramicane = upperq_Ramicane-lowerq_Ramicane\n",
    "\n",
    "lower_bound_Ramicane = lowerq_Ramicane - (1.5*iqr_Ramicane)\n",
    "upper_bound_Ramicane = upperq_Ramicane + (1.5*iqr_Ramicane)\n",
    "\n",
    "outlier2 = []\n",
    "for row in range(len(Diffval2)):\n",
    "    if Diffval2[row] < lower_bound_Ramicane[0] or Diffval2[row] > upper_bound_Ramicane[0]:\n",
    "        outlier2.append(Diffval1[row])\n",
    "        print(f\"Ramicane has a potential outlier of{round(Diffval2[row],2)} and an IQR of {round(iqr_Ramicane[0],2)}. \\n\")\n",
    "        \n",
    "if outlier2 == []:        \n",
    "    print(f\"Ramicane has an IQR of {round(iqr_Ramicane[0],2)} and has no potential outliers.\\n\")\n",
    "\n",
    "#finding the quartiles, IQR, and outliers for Infubinol\n",
    "Diffval3_pd = pd.DataFrame(Diffval3)\n",
    "quartiles_Infubinol = Diffval3_pd.quantile([.25,.5,.75])\n",
    "lowerq_Infubinol = quartiles_Infubinol.iloc[0]\n",
    "upperq_Infubinol = quartiles_Infubinol.iloc[2]\n",
    "iqr_Infubinol = upperq_Infubinol-lowerq_Infubinol\n",
    "\n",
    "lower_bound_Infubinol = lowerq_Infubinol - (1.5*iqr_Infubinol)\n",
    "upper_bound_Infubinol = upperq_Infubinol + (1.5*iqr_Infubinol)\n",
    "\n",
    "outlier3 = []\n",
    "for row in range(len(Diffval3)):\n",
    "    if Diffval3[row] < lower_bound_Infubinol[0] or Diffval3[row] > upper_bound_Infubinol[0]:\n",
    "        outlier3.append(Diffval1[row])\n",
    "        print(f\"Infubinor has a potential outlier of {round(Diffval3[row],2)} and an IQR of {round(iqr_Infubinol[0],2)}. \\n\") \n",
    "\n",
    "if outlier3 == []:         \n",
    "    print(f\"Infubinor has an IQR of {round(iqr_Infubinor[0],2)} and has no potential outliers. \\n\")\n",
    "\n",
    "#finding the quartiles, IQR, and outliers for Ceftamin \n",
    "Diffval4_pd = pd.DataFrame(Diffval4)\n",
    "quartiles_Ceftamin = Diffval4_pd.quantile([.25,.5,.75])\n",
    "lowerq_Ceftamin = quartiles_Ceftamin.iloc[0]\n",
    "upperq_Ceftamin = quartiles_Ceftamin.iloc[2]\n",
    "iqr_Ceftamin = upperq_Ceftamin-lowerq_Ceftamin\n",
    "\n",
    "lower_bound_Ceftamin = lowerq_Ceftamin - (1.5*iqr_Ceftamin)\n",
    "upper_bound_Ceftamin = upperq_Ceftamin + (1.5*iqr_Ceftamin)\n",
    "\n",
    "outlier4 = []\n",
    "for row in range(len(Diffval4)):\n",
    "    if Diffval4[row] < lower_bound_Ceftamin[0] or Diffval4[row] > upper_bound_Ceftamin[0]:\n",
    "        outlier4.append(Diffval1[row])\n",
    "        print(f\"Ceftamin has a potential outlier of {round(Diffval4[row],2)} and an IQR of {round(iqr_Ceftamin[0],2)}. \\n \")\n",
    "\n",
    "if outlier4 == []:  \n",
    "         print(f\"Ceftamin has an IQR of {round(iqr_Ceftamin[0],2)} and has no potential outliers. \\n\")"
   ]
  },
  {
   "cell_type": "code",
   "execution_count": null,
   "metadata": {},
   "outputs": [],
   "source": [
    "#Creating a boxplot of the arrays containing the final tumor volumes for the 4 most effective treatments. \n",
    "data = [Diffval1, Diffval2, Diffval3, Diffval4]\n",
    "fig7, ax7 = plt.subplots()\n",
    "ax7.set_title('Boxplots of the Final Tumor Volume for 4 Treatments')\n",
    "ax7.set_ylabel('Final Tumor Volume (mm3)')\n",
    "red_dot = dict(markerfacecolor='r', marker='o',markersize=12)\n",
    "ax7.boxplot(data, labels = [\"Capomulin\",\"Ramicane\",\"Infubinor\",\"Ceftamin\"],flierprops=red_dot)\n",
    "plt.tight_layout()\n",
    "plt.show()\n",
    "\n"
   ]
  },
  {
   "cell_type": "code",
   "execution_count": null,
   "metadata": {},
   "outputs": [],
   "source": [
    "# A line plot of time point versus tumor volume for Mouse l509 treated with Capomulin\n",
    "mouse_id_501 = mouse_merge['Mouse ID']\n",
    "time_axis501 = []\n",
    "volume_axis501 =[]\n",
    "\n",
    "#Defining the x axis and the y axis for this specific mouse \n",
    "for t in range(len(mouse_merge)):\n",
    "    if mouse_id_501[t] == 'l509':\n",
    "        time_axis501.append(mouse_merge.iloc[t,1])\n",
    "        volume_axis501.append(mouse_merge.iloc[t,2])\n",
    "\n",
    "#Making the line plot of the timepoint and the tumor volume at that timepoint \n",
    "plt.plot(time_axis501,volume_axis501)\n",
    "plt.xlabel(\"Timepoint (Days)\")\n",
    "plt.ylabel(\"Tumor Volume (mm3)\")\n",
    "plt.title(\"Capomulin Treatment of Mouse l509\")\n",
    "plt.tight_layout()"
   ]
  },
  {
   "cell_type": "code",
   "execution_count": null,
   "metadata": {},
   "outputs": [],
   "source": [
    "#Creating a scatter plot of the Average tumor volume compared with weight for mouse treated with Capomulin\n",
    "tumorv11 = mouse_merge[['Drug Regimen','Tumor Volume (mm3)','Mouse ID','Weight (g)']]\n",
    "mouse_imp =pd.DataFrame(tumorv11)\n",
    "#Isolating the data to just mouse treated with Capomulin\n",
    "mouse_imp = mouse_imp.loc[mouse_imp[\"Drug Regimen\"] == \"Capomulin\", :]\n",
    "#Grouping the data to different mouses \n",
    "drug_group = mouse_imp.groupby('Mouse ID')\n",
    "total_scatter = drug_group.mean()"
   ]
  },
  {
   "cell_type": "code",
   "execution_count": null,
   "metadata": {
    "scrolled": true
   },
   "outputs": [],
   "source": [
    "#Defining the weight axis and the average tumor volume axis \n",
    "x_axis123 = total_scatter.iloc[:,1]\n",
    "y_axis123 = total_scatter.iloc[:,0]\n",
    "\n",
    "#Plotting the scatter plot of the weight and average tumor volume \n",
    "plt.scatter(x_axis123,y_axis123)\n",
    "plt.title('Scatter plot between Weight and Average Tumor Volume for Capomulin')\n",
    "plt.xlabel('Weight (g)')\n",
    "plt.ylabel('Average Tumor Volume (mm3)')\n",
    "plt.tight_layout()\n",
    "plt.show()\n"
   ]
  },
  {
   "cell_type": "code",
   "execution_count": null,
   "metadata": {},
   "outputs": [],
   "source": [
    "#Find the correlation value and the line regression of the scatter plot above \n",
    "\n",
    "#Using scipy.stats to find the pearson coefficiant of the correlation of the weight and average tumor volume \n",
    "correlation_Val = round(st.pearsonr(x_axis123,y_axis123)[0],2)\n",
    "print(f\"The correlation between mouse weight and the average tumor volume is {correlation_Val} \\n\")\n",
    "\n",
    "#Finding the fit of the linear regression for the weight vs. Average tumor volume\n",
    "avg_slope, avg_int, a1, a2, a3 = st.linregress(x_axis123, y_axis123)\n",
    "avg_fit = avg_slope * x_axis123 + avg_int\n",
    "\n",
    "#Replotting scatter plot along with linear regression found earlier. \n",
    "plt.scatter(x_axis123,y_axis123)\n",
    "plt.plot(x_axis123,avg_fit,\"-\",color = \"r\")\n",
    "plt.title('Line Regression between Weight and Average Tumor Volume for Capomulin')\n",
    "plt.xlabel('Weight (g)')\n",
    "plt.ylabel('Average Tumor Volume (mm3)')\n",
    "plt.tight_layout()\n",
    "plt.show()\n"
   ]
  },
  {
   "cell_type": "code",
   "execution_count": null,
   "metadata": {},
   "outputs": [],
   "source": []
  },
  {
   "cell_type": "code",
   "execution_count": null,
   "metadata": {},
   "outputs": [],
   "source": []
  },
  {
   "cell_type": "code",
   "execution_count": null,
   "metadata": {},
   "outputs": [],
   "source": []
  }
 ],
 "metadata": {
  "kernelspec": {
   "display_name": "Python 3",
   "language": "python",
   "name": "python3"
  },
  "language_info": {
   "codemirror_mode": {
    "name": "ipython",
    "version": 3
   },
   "file_extension": ".py",
   "mimetype": "text/x-python",
   "name": "python",
   "nbconvert_exporter": "python",
   "pygments_lexer": "ipython3",
   "version": "3.7.4"
  }
 },
 "nbformat": 4,
 "nbformat_minor": 2
}
